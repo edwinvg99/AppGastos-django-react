{
  "nbformat": 4,
  "nbformat_minor": 0,
  "metadata": {
    "colab": {
      "provenance": [],
      "authorship_tag": "ABX9TyOUmZnWqfmxP3OLt0j6wyFs",
      "include_colab_link": true
    },
    "kernelspec": {
      "name": "python3",
      "display_name": "Python 3"
    },
    "language_info": {
      "name": "python"
    }
  },
  "cells": [
    {
      "cell_type": "markdown",
      "metadata": {
        "id": "view-in-github",
        "colab_type": "text"
      },
      "source": [
        "<a href=\"https://colab.research.google.com/github/edwinvg99/AppGastos-django-react/blob/main/KNN.ipynb\" target=\"_parent\"><img src=\"https://colab.research.google.com/assets/colab-badge.svg\" alt=\"Open In Colab\"/></a>"
      ]
    },
    {
      "cell_type": "code",
      "source": [
        "Algoritmo de clasificacion y clauterizacion"
      ],
      "metadata": {
        "id": "WuB5BHrcf_VI"
      },
      "execution_count": null,
      "outputs": []
    },
    {
      "cell_type": "code",
      "execution_count": 2,
      "metadata": {
        "colab": {
          "base_uri": "https://localhost:8080/"
        },
        "id": "3mqxJNFEfkM3",
        "outputId": "110a6923-99b0-49be-91f5-97a2c37273ba"
      },
      "outputs": [
        {
          "output_type": "stream",
          "name": "stdout",
          "text": [
            "3.7416573867739413\n"
          ]
        }
      ],
      "source": [
        "#calcular la distancia entre los vecinos mas cercanos\n",
        "\n",
        "import numpy as np\n",
        "\n",
        "punto_1 = np.array([2,3,6]) # Creamos un punto inicial en el espacio\n",
        "punto_2 = np.array([3,5,9]) # Creamos el punto final\n",
        "\n",
        "# Ahora vamos a calcular la distancia euclidiana\n",
        "\n",
        "distancia_euclidiana = np.linalg.norm(punto_1 - punto_2)\n",
        "\n",
        "print(distancia_euclidiana)"
      ]
    },
    {
      "cell_type": "markdown",
      "source": [],
      "metadata": {
        "id": "g8dz-YBlf7zD"
      }
    },
    {
      "cell_type": "code",
      "source": [
        "# Vamos a importar las librerias con las que vamos a realizar los ejercicios de clasificacion\n",
        "\n",
        "import pandas as pd\n",
        "import matplotlib.pyplot as plt #para realizar graficas\n",
        "import seaborn as sns # ara reaizar graficas\n",
        "from sklearn.neighbors import KNeighborsClassifier #libreria para realizar el algoritmo\n",
        "\n",
        "#vamos a crear los datos de prueba y les vamos a asignar una categoria\n",
        "# vamos a crear el pinto nuevo que vamos a clasificar\n",
        "\n",
        "#depende de la masa y peso se categoriza si es hombre o mujer\n",
        "data = {\"Masa\":[50,80,90,45,60],\n",
        "        \"Altura\":[1.48,1.82,1.85,1.55,1.60],\n",
        "        \"Genero\":[\"Mujer\",\"Hombre\",\"Hombre\",\"Mujer\",\"Mujer\"]}\n",
        "\n",
        "punto_nuevo = {\"Masa\":[80],\n",
        "               \"Altura\":[1.68]}\n"
      ],
      "metadata": {
        "id": "7jDhdOZmhXrf"
      },
      "execution_count": 31,
      "outputs": []
    },
    {
      "cell_type": "code",
      "source": [
        "df = pd.DataFrame(data) # Creamos la tabla de los datos iniciales\n",
        "\n",
        "punto_nuevo = pd.DataFrame(punto_nuevo) # Creamos la tabla de datos nuevos\n",
        "\n",
        "print(df)\n",
        "print(\"\")\n",
        "print(punto_nuevo)"
      ],
      "metadata": {
        "colab": {
          "base_uri": "https://localhost:8080/"
        },
        "id": "nPddSXEokjFG",
        "outputId": "49d12da8-39a9-446a-a8fa-d54511b99302"
      },
      "execution_count": 32,
      "outputs": [
        {
          "output_type": "stream",
          "name": "stdout",
          "text": [
            "   Masa  Altura  Genero\n",
            "0    50    1.48   Mujer\n",
            "1    80    1.82  Hombre\n",
            "2    90    1.85  Hombre\n",
            "3    45    1.55   Mujer\n",
            "4    60    1.60   Mujer\n",
            "\n",
            "   Masa  Altura\n",
            "0    80    1.68\n"
          ]
        }
      ]
    },
    {
      "cell_type": "code",
      "source": [
        "# ahora vamos a graficar los datos del genero masculino\n",
        "#ahora si podemos visualizar los datos\n",
        "\n",
        "ax = plt.axes()\n",
        "ax.scatter(df.loc[df[\"Genero\"] == \"Hombre\", \"Masa\"],\n",
        "           df.loc[df[\"Genero\"] == \"Hombre\", \"Altura\"],\n",
        "           c=\"#17DBF3\",\n",
        "           label=\"Hombre\")\n",
        "\n",
        "ax.legend()\n",
        "plt.show()\n",
        "\n"
      ],
      "metadata": {
        "colab": {
          "base_uri": "https://localhost:8080/",
          "height": 430
        },
        "id": "JnwZ7QEMlfDC",
        "outputId": "bb6027f6-4eb3-460e-92d9-e20f2fb7c4dd"
      },
      "execution_count": 33,
      "outputs": [
        {
          "output_type": "display_data",
          "data": {
            "text/plain": [
              "<Figure size 640x480 with 1 Axes>"
            ],
            "image/png": "[encoded data removed]"
          },
          "metadata": {}
        }
      ]
    },
    {
      "cell_type": "code",
      "source": [
        "# ahora vamos a graficar los datos del genero masculino\n",
        "#ahora si podemos visualizar los datos\n",
        "\n",
        "ax = plt.axes()\n",
        "ax.scatter(df.loc[df[\"Genero\"] == \"Mujer\", \"Masa\"],\n",
        "           df.loc[df[\"Genero\"] == \"Mujer\", \"Altura\"],\n",
        "           c=\"#D699E8\",\n",
        "           label=\"Mujer\")\n",
        "\n",
        "ax.legend()\n",
        "plt.show()"
      ],
      "metadata": {
        "colab": {
          "base_uri": "https://localhost:8080/",
          "height": 430
        },
        "id": "qyhBX4_Fnc5M",
        "outputId": "aa7fb233-a3a9-4aac-bea5-281a9abe2a32"
      },
      "execution_count": 19,
      "outputs": [
        {
          "output_type": "display_data",
          "data": {
            "text/plain": [
              "<Figure size 640x480 with 1 Axes>"
            ],
            "image/png": "[encoded data removed]"
          },
          "metadata": {}
        }
      ]
    },
    {
      "cell_type": "code",
      "source": [
        "#Graficar el punto nuevo\n",
        "\n",
        "ax = plt.axes()\n",
        "ax.scatter(punto_nuevo[\"Masa\"],\n",
        "           punto_nuevo[\"Altura\"],\n",
        "           c=\"#8EFE62\",\n",
        "           label=\"Punto nuevo\")\n",
        "\n",
        "ax.legend()\n",
        "plt.show"
      ],
      "metadata": {
        "colab": {
          "base_uri": "https://localhost:8080/",
          "height": 599
        },
        "id": "BWXg6XeQol17",
        "outputId": "65c318b1-1651-4baa-f095-972be95e839f"
      },
      "execution_count": 34,
      "outputs": [
        {
          "output_type": "execute_result",
          "data": {
            "text/plain": [
              "<function matplotlib.pyplot.show(close=None, block=None)>"
            ],
            "text/html": [
              "<div style=\"max-width:800px; border: 1px solid var(--colab-border-color);\"><style>\n",
              "      pre.function-repr-contents {\n",
              "        overflow-x: auto;\n",
              "        padding: 8px 12px;\n",
              "        max-height: 500px;\n",
              "      }\n",
              "\n",
              "      pre.function-repr-contents.function-repr-contents-collapsed {\n",
              "        cursor: pointer;\n",
              "        max-height: 100px;\n",
              "      }\n",
              "    </style>\n",
              "    <pre style=\"white-space: initial; background:\n",
              "         var(--colab-secondary-surface-color); padding: 8px 12px;\n",
              "         border-bottom: 1px solid var(--colab-border-color);\"><b>matplotlib.pyplot.show</b><br/>def show(*args, **kwargs)</pre><pre class=\"function-repr-contents function-repr-contents-collapsed\" style=\"\"><a class=\"filepath\" style=\"display:none\" href=\"#\">/usr/local/lib/python3.10/dist-packages/matplotlib/pyplot.py</a>Display all open figures.\n",
              "\n",
              "Parameters\n",
              "----------\n",
              "block : bool, optional\n",
              "    Whether to wait for all figures to be closed before returning.\n",
              "\n",
              "    If `True` block and run the GUI main loop until all figure windows\n",
              "    are closed.\n",
              "\n",
              "    If `False` ensure that all figure windows are displayed and return\n",
              "    immediately.  In this case, you are responsible for ensuring\n",
              "    that the event loop is running to have responsive figures.\n",
              "\n",
              "    Defaults to True in non-interactive mode and to False in interactive\n",
              "    mode (see `.pyplot.isinteractive`).\n",
              "\n",
              "See Also\n",
              "--------\n",
              "ion : Enable interactive mode, which shows / updates the figure after\n",
              "      every plotting command, so that calling ``show()`` is not necessary.\n",
              "ioff : Disable interactive mode.\n",
              "savefig : Save the figure to an image file instead of showing it on screen.\n",
              "\n",
              "Notes\n",
              "-----\n",
              "**Saving figures to file and showing a window at the same time**\n",
              "\n",
              "If you want an image file as well as a user interface window, use\n",
              "`.pyplot.savefig` before `.pyplot.show`. At the end of (a blocking)\n",
              "``show()`` the figure is closed and thus unregistered from pyplot. Calling\n",
              "`.pyplot.savefig` afterwards would save a new and thus empty figure. This\n",
              "limitation of command order does not apply if the show is non-blocking or\n",
              "if you keep a reference to the figure and use `.Figure.savefig`.\n",
              "\n",
              "**Auto-show in jupyter notebooks**\n",
              "\n",
              "The jupyter backends (activated via ``%matplotlib inline``,\n",
              "``%matplotlib notebook``, or ``%matplotlib widget``), call ``show()`` at\n",
              "the end of every cell by default. Thus, you usually don&#x27;t have to call it\n",
              "explicitly there.</pre>\n",
              "      <script>\n",
              "      if (google.colab.kernel.accessAllowed && google.colab.files && google.colab.files.view) {\n",
              "        for (const element of document.querySelectorAll('.filepath')) {\n",
              "          element.style.display = 'block'\n",
              "          element.onclick = (event) => {\n",
              "            event.preventDefault();\n",
              "            event.stopPropagation();\n",
              "            google.colab.files.view(element.textContent, 401);\n",
              "          };\n",
              "        }\n",
              "      }\n",
              "      for (const element of document.querySelectorAll('.function-repr-contents')) {\n",
              "        element.onclick = (event) => {\n",
              "          event.preventDefault();\n",
              "          event.stopPropagation();\n",
              "          element.classList.toggle('function-repr-contents-collapsed');\n",
              "        };\n",
              "      }\n",
              "      </script>\n",
              "      </div>"
            ]
          },
          "metadata": {},
          "execution_count": 34
        },
        {
          "output_type": "display_data",
          "data": {
            "text/plain": [
              "<Figure size 640x480 with 1 Axes>"
            ],
            "image/png": "[encoded data removed]"
          },
          "metadata": {}
        }
      ]
    },
    {
      "cell_type": "code",
      "source": [
        "ax = plt.axes()\n",
        "ax.scatter(df.loc[df[\"Genero\"] == \"Hombre\", \"Masa\"],\n",
        "           df.loc[df[\"Genero\"] == \"Hombre\", \"Altura\"],\n",
        "           c=\"#17DBF3\",\n",
        "           label=\"Hombre\")\n",
        "\n",
        "ax.scatter(df.loc[df[\"Genero\"] == \"Mujer\", \"Masa\"],\n",
        "           df.loc[df[\"Genero\"] == \"Mujer\", \"Altura\"],\n",
        "           c=\"#D699E8\",\n",
        "           label=\"Mujer\")\n",
        "\n",
        "ax.scatter(punto_nuevo[\"Masa\"],\n",
        "           punto_nuevo[\"Altura\"],\n",
        "           c=\"#8EFE62\",\n",
        "           label=\"Punto nuevo\")\n",
        "\n",
        "plt.xlabel(\"Masa\")\n",
        "plt.ylabel(\"Altura\")\n",
        "ax.legend()\n",
        "plt.show"
      ],
      "metadata": {
        "colab": {
          "base_uri": "https://localhost:8080/",
          "height": 618
        },
        "id": "NKTq8u_IpaR6",
        "outputId": "fdbdeb35-9a96-4b57-db94-0364cad53c1a"
      },
      "execution_count": 35,
      "outputs": [
        {
          "output_type": "execute_result",
          "data": {
            "text/plain": [
              "<function matplotlib.pyplot.show(close=None, block=None)>"
            ],
            "text/html": [
              "<div style=\"max-width:800px; border: 1px solid var(--colab-border-color);\"><style>\n",
              "      pre.function-repr-contents {\n",
              "        overflow-x: auto;\n",
              "        padding: 8px 12px;\n",
              "        max-height: 500px;\n",
              "      }\n",
              "\n",
              "      pre.function-repr-contents.function-repr-contents-collapsed {\n",
              "        cursor: pointer;\n",
              "        max-height: 100px;\n",
              "      }\n",
              "    </style>\n",
              "    <pre style=\"white-space: initial; background:\n",
              "         var(--colab-secondary-surface-color); padding: 8px 12px;\n",
              "         border-bottom: 1px solid var(--colab-border-color);\"><b>matplotlib.pyplot.show</b><br/>def show(*args, **kwargs)</pre><pre class=\"function-repr-contents function-repr-contents-collapsed\" style=\"\"><a class=\"filepath\" style=\"display:none\" href=\"#\">/usr/local/lib/python3.10/dist-packages/matplotlib/pyplot.py</a>Display all open figures.\n",
              "\n",
              "Parameters\n",
              "----------\n",
              "block : bool, optional\n",
              "    Whether to wait for all figures to be closed before returning.\n",
              "\n",
              "    If `True` block and run the GUI main loop until all figure windows\n",
              "    are closed.\n",
              "\n",
              "    If `False` ensure that all figure windows are displayed and return\n",
              "    immediately.  In this case, you are responsible for ensuring\n",
              "    that the event loop is running to have responsive figures.\n",
              "\n",
              "    Defaults to True in non-interactive mode and to False in interactive\n",
              "    mode (see `.pyplot.isinteractive`).\n",
              "\n",
              "See Also\n",
              "--------\n",
              "ion : Enable interactive mode, which shows / updates the figure after\n",
              "      every plotting command, so that calling ``show()`` is not necessary.\n",
              "ioff : Disable interactive mode.\n",
              "savefig : Save the figure to an image file instead of showing it on screen.\n",
              "\n",
              "Notes\n",
              "-----\n",
              "**Saving figures to file and showing a window at the same time**\n",
              "\n",
              "If you want an image file as well as a user interface window, use\n",
              "`.pyplot.savefig` before `.pyplot.show`. At the end of (a blocking)\n",
              "``show()`` the figure is closed and thus unregistered from pyplot. Calling\n",
              "`.pyplot.savefig` afterwards would save a new and thus empty figure. This\n",
              "limitation of command order does not apply if the show is non-blocking or\n",
              "if you keep a reference to the figure and use `.Figure.savefig`.\n",
              "\n",
              "**Auto-show in jupyter notebooks**\n",
              "\n",
              "The jupyter backends (activated via ``%matplotlib inline``,\n",
              "``%matplotlib notebook``, or ``%matplotlib widget``), call ``show()`` at\n",
              "the end of every cell by default. Thus, you usually don&#x27;t have to call it\n",
              "explicitly there.</pre>\n",
              "      <script>\n",
              "      if (google.colab.kernel.accessAllowed && google.colab.files && google.colab.files.view) {\n",
              "        for (const element of document.querySelectorAll('.filepath')) {\n",
              "          element.style.display = 'block'\n",
              "          element.onclick = (event) => {\n",
              "            event.preventDefault();\n",
              "            event.stopPropagation();\n",
              "            google.colab.files.view(element.textContent, 401);\n",
              "          };\n",
              "        }\n",
              "      }\n",
              "      for (const element of document.querySelectorAll('.function-repr-contents')) {\n",
              "        element.onclick = (event) => {\n",
              "          event.preventDefault();\n",
              "          event.stopPropagation();\n",
              "          element.classList.toggle('function-repr-contents-collapsed');\n",
              "        };\n",
              "      }\n",
              "      </script>\n",
              "      </div>"
            ]
          },
          "metadata": {},
          "execution_count": 35
        },
        {
          "output_type": "display_data",
          "data": {
            "text/plain": [
              "<Figure size 640x480 with 1 Axes>"
            ],
            "image/png": "[encoded data removed]"
          },
          "metadata": {}
        }
      ]
    },
    {
      "cell_type": "code",
      "source": [
        "#Entrenar algorimo con los datos que tenemos (DATA) y con las etiquetas\n",
        "# Luego vamos a definir el genero al que pertenece el dato nuevo\n",
        "\n",
        "from sklearn.neighbors import KNeighborsClassifier\n",
        "\n",
        "Knn = KNeighborsClassifier(n_neighbors=3) #se renombro la valiable del algoritmo y se epecifico que agarre los 3 vecinos mas cercanos\n",
        "\n",
        "X = df[[\"Masa\",\"Altura\"]]\n",
        "y = df[[\"Genero\"]]\n",
        "\n",
        "Knn.fit(X,y) # ajustamos las etiquetas para definir el tipo de genero\n",
        "\n",
        "predicction = Knn.predict(punto_nuevo)\n",
        "print(punto_nuevo)\n",
        "print(\"\")\n",
        "print(predicction)\n"
      ],
      "metadata": {
        "colab": {
          "base_uri": "https://localhost:8080/"
        },
        "id": "x7b2oYfnqjTL",
        "outputId": "6da1bf4f-0289-4d71-a5b7-a769af793c82"
      },
      "execution_count": 36,
      "outputs": [
        {
          "output_type": "stream",
          "name": "stdout",
          "text": [
            "   Masa  Altura\n",
            "0    80    1.68\n",
            "\n",
            "['Hombre']\n"
          ]
        },
        {
          "output_type": "stream",
          "name": "stderr",
          "text": [
            "/usr/local/lib/python3.10/dist-packages/sklearn/neighbors/_classification.py:238: DataConversionWarning: A column-vector y was passed when a 1d array was expected. Please change the shape of y to (n_samples,), for example using ravel().\n",
            "  return self._fit(X, y)\n"
          ]
        }
      ]
    }
  ]
}